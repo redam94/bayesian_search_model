{
 "cells": [
  {
   "cell_type": "code",
   "execution_count": 3,
   "metadata": {},
   "outputs": [],
   "source": [
    "import numpy as np\n",
    "import matplotlib.pyplot as plt\n",
    "import pandas as pd\n",
    "import jax.numpy as jnp\n",
    "import jax\n",
    "from enum import Enum"
   ]
  },
  {
   "cell_type": "code",
   "execution_count": 4,
   "metadata": {},
   "outputs": [],
   "source": [
    "RANDOM_KEY = jax.random.PRNGKey(0)\n",
    "def random_key():\n",
    "    global RANDOM_KEY\n",
    "    RANDOM_KEY, key = jax.random.split(RANDOM_KEY)\n",
    "    return key"
   ]
  },
  {
   "cell_type": "code",
   "execution_count": 5,
   "metadata": {},
   "outputs": [],
   "source": [
    "def markov_chain(n, transition_matrix, initial_state):\n",
    "    state = initial_state\n",
    "    states = [state]\n",
    "    for i in range(n):\n",
    "        state = jax.random.choice(random_key(), np.arange(len(transition_matrix)), p=transition_matrix[state])\n",
    "        states.append(state)\n",
    "    return states"
   ]
  },
  {
   "cell_type": "code",
   "execution_count": 6,
   "metadata": {},
   "outputs": [],
   "source": [
    "class State(Enum):\n",
    "    DARK = 0\n",
    "    HIGH = 2\n",
    "    LOW = 1\n",
    "    HOLIDAY = 3"
   ]
  },
  {
   "cell_type": "code",
   "execution_count": 7,
   "metadata": {},
   "outputs": [],
   "source": [
    "class Action(Enum):\n",
    "    STAY = 0\n",
    "    UP = 1\n",
    "    DOWN = 2\n",
    "    SPIKE = 3\n",
    "    OFF = 4"
   ]
  },
  {
   "cell_type": "code",
   "execution_count": 8,
   "metadata": {},
   "outputs": [],
   "source": [
    "state_action_map = {\n",
    "    State.DARK: {\n",
    "        Action.STAY: State.DARK,\n",
    "        Action.UP: State.LOW,\n",
    "        Action.DOWN: State.DARK,\n",
    "        Action.SPIKE: State.HIGH,\n",
    "        Action.OFF: State.DARK\n",
    "    },\n",
    "    State.HIGH: {\n",
    "        Action.STAY: State.HIGH,\n",
    "        Action.UP: State.HOLIDAY,\n",
    "        Action.DOWN: State.LOW,\n",
    "        Action.SPIKE: State.HOLIDAY,\n",
    "        Action.OFF: State.DARK\n",
    "    },\n",
    "    State.LOW: {\n",
    "        Action.STAY: State.LOW,\n",
    "        Action.UP: State.HIGH,\n",
    "        Action.DOWN: State.LOW,\n",
    "        Action.SPIKE: State.HOLIDAY,\n",
    "        Action.OFF: State.DARK\n",
    "    },\n",
    "    State.HOLIDAY: {\n",
    "        Action.STAY: State.HOLIDAY,\n",
    "        Action.UP: State.HOLIDAY,\n",
    "        Action.DOWN: State.HIGH,\n",
    "        Action.SPIKE: State.HOLIDAY,\n",
    "        Action.OFF: State.DARK\n",
    "    }\n",
    "}"
   ]
  },
  {
   "cell_type": "code",
   "execution_count": 9,
   "metadata": {},
   "outputs": [],
   "source": [
    "class MarkovChain:\n",
    "  \n",
    "  def __init__(self, transition_matrix, initial_state, state_action_map, state_to_dist_map):\n",
    "    self.transition_matrix = transition_matrix\n",
    "    self.current_state = initial_state\n",
    "    self.state_action_map = state_action_map\n",
    "    self.state_to_dist_map = state_to_dist_map\n",
    "    \n",
    "  \n",
    "  def get_values(self, states):\n",
    "    return [self.state_to_dist_map[state](random_key()) for state in states]\n",
    "        \n",
    "  \n",
    "  def simulate(self, n):\n",
    "    state = self.current_state\n",
    "    states = [state]\n",
    "    \n",
    "    for i in range(n-1):\n",
    "        action = jax.random.choice(random_key(), \n",
    "                                   np.arange(len(self.transition_matrix[state.value])), p=self.transition_matrix[state.value])\n",
    "        state = self._perform_action(state, Action(action))\n",
    "        states.append(state)\n",
    "    values = self.get_values(states)\n",
    "    return states, values\n",
    "  \n",
    "  def _perform_action(self, state, action):\n",
    "    return self.state_action_map[state][action]\n",
    "  \n",
    "  def next(self):\n",
    "    self.current_state = markov_chain(1, self.transition_matrix, self.current_state)[0]\n",
    "    return self.current_state\n",
    "\n",
    "  def plot(self, n):\n",
    "    states = self.simulate(n)\n",
    "    values = [self.state_to_dist_map[state](random_key()) for state in states]\n",
    "    plt.plot(values)\n",
    "    plt.show()\n",
    "  "
   ]
  },
  {
   "cell_type": "code",
   "execution_count": null,
   "metadata": {},
   "outputs": [],
   "source": []
  },
  {
   "cell_type": "code",
   "execution_count": 10,
   "metadata": {},
   "outputs": [],
   "source": [
    "action_prob = np.array([\n",
    "    [0.8, 0.19, 0.0, 0.01, 0.0],\n",
    "    [0.7, 0.14, 0.15, 0.01, 0.0],\n",
    "    [0.5, 0.05, 0.35, 0.0, 0.1],\n",
    "    [0.04, 0.0, 0.95, 0, 0.01]\n",
    "])\n",
    "state_to_dist_map = {\n",
    "    State.DARK: lambda key: 0,\n",
    "    State.HIGH: lambda key: np.exp(6 + 0.2*jax.random.normal(key, (1,)))[0],\n",
    "    State.LOW: lambda key: np.exp(4 + 0.5*jax.random.normal(key, (1,)))[0],\n",
    "    State.HOLIDAY: lambda key: np.exp(7 + 0.05*jax.random.normal(key, (1,)))[0]}"
   ]
  },
  {
   "cell_type": "code",
   "execution_count": 11,
   "metadata": {},
   "outputs": [],
   "source": [
    "markov_chain = MarkovChain(action_prob, State.DARK, state_action_map, state_to_dist_map=state_to_dist_map)"
   ]
  },
  {
   "cell_type": "code",
   "execution_count": 17,
   "metadata": {},
   "outputs": [
    {
     "data": {
      "image/png": "[encoded data removed]",
      "text/plain": [
       "<Figure size 1200x600 with 4 Axes>"
      ]
     },
     "metadata": {},
     "output_type": "display_data"
    }
   ],
   "source": [
    "states1, values = markov_chain.simulate(152)\n",
    "channel1 = values*np.exp(np.sin(2*np.pi*np.arange(152)/52.18))\n",
    "states2, values = markov_chain.simulate(152)\n",
    "channel2 = values*np.exp(np.sin(2*np.pi*np.arange(152)/52.18))\n",
    "states3, values = markov_chain.simulate(152)\n",
    "channel3 = values*np.exp(np.sin(2*np.pi*np.arange(152)/52.18))\n",
    "fig, ax = plt.subplots(4, figsize=(12, 6), sharex=True, height_ratios=[2, 1, 2, 1])\n",
    "ax[0].bar(np.arange(152), channel1)\n",
    "ax[2].bar(np.arange(152), channel2)\n",
    "ax[1].bar(np.arange(152), [state.value+1 for state in states1], alpha=0.5)\n",
    "ax[1].set_yticks([1, 2, 3, 4], [\"DARK\", \"LOW\", \"HIGH\", \"HOLIDAY\"]);\n",
    "ax[3].bar(np.arange(152), [state.value+1 for state in states2], alpha=0.5)\n",
    "ax[3].set_yticks([1, 2, 3, 4], [\"DARK\", \"LOW\", \"HIGH\", \"HOLIDAY\"]);"
   ]
  },
  {
   "cell_type": "code",
   "execution_count": null,
   "metadata": {},
   "outputs": [],
   "source": []
  },
  {
   "cell_type": "code",
   "execution_count": null,
   "metadata": {},
   "outputs": [],
   "source": []
  }
 ],
 "metadata": {
  "kernelspec": {
   "display_name": "pymc_gp",
   "language": "python",
   "name": "python3"
  },
  "language_info": {
   "codemirror_mode": {
    "name": "ipython",
    "version": 3
   },
   "file_extension": ".py",
   "mimetype": "text/x-python",
   "name": "python",
   "nbconvert_exporter": "python",
   "pygments_lexer": "ipython3",
   "version": "3.11.9"
  }
 },
 "nbformat": 4,
 "nbformat_minor": 2
}
